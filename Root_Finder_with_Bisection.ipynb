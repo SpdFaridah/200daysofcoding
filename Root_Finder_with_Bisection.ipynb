{
  "nbformat": 4,
  "nbformat_minor": 0,
  "metadata": {
    "colab": {
      "provenance": [],
      "authorship_tag": "ABX9TyOlSvWc0y/82xF0yiTnhzVT",
      "include_colab_link": true
    },
    "kernelspec": {
      "name": "python3",
      "display_name": "Python 3"
    },
    "language_info": {
      "name": "python"
    }
  },
  "cells": [
    {
      "cell_type": "markdown",
      "metadata": {
        "id": "view-in-github",
        "colab_type": "text"
      },
      "source": [
        "<a href=\"https://colab.research.google.com/github/SpdFaridah/200daysofcoding/blob/main/Root_Finder_with_Bisection.ipynb\" target=\"_parent\"><img src=\"https://colab.research.google.com/assets/colab-badge.svg\" alt=\"Open In Colab\"/></a>"
      ]
    },
    {
      "cell_type": "markdown",
      "source": [
        "Root Finder with Bisection"
      ],
      "metadata": {
        "id": "BuDVcXFFgiRN"
      }
    },
    {
      "cell_type": "code",
      "execution_count": 2,
      "metadata": {
        "colab": {
          "base_uri": "https://localhost:8080/"
        },
        "id": "gOtAQlk4fYdu",
        "outputId": "10563a57-7b80-4976-fdae-548cb692e1b0"
      },
      "outputs": [
        {
          "output_type": "stream",
          "name": "stdout",
          "text": [
            "2.000019073486328\n"
          ]
        }
      ],
      "source": [
        "def find_root_bounds(x, power):\n",
        "    \"\"\"\n",
        "    Finds a starting range where the root could lie.\n",
        "    Ensures that low**power <= x <= high**power.\n",
        "    \"\"\"\n",
        "    low = min(-1, x)\n",
        "    high = max(1, x)\n",
        "    return low, high\n",
        "\n",
        "\n",
        "def bisection_solve(x, power, epsilon, low, high):\n",
        "    \"\"\"\n",
        "    Uses bisection to zoom in on the root of x**(1/power),\n",
        "    stopping when the guess is close enough (within epsilon).\n",
        "    \"\"\"\n",
        "    guess = (high + low) / 2.0\n",
        "\n",
        "    # it keep cutting the range until we're close enough\n",
        "    while abs(guess**power - x) >= epsilon:\n",
        "        if guess**power < x:\n",
        "            low = guess  # it shift up the lower bound\n",
        "        else:\n",
        "            high = guess  # it shift down the upper bound\n",
        "        guess = (high + low) / 2.0\n",
        "\n",
        "    return guess\n",
        "\n",
        "\n",
        "def find_root(x, power, epsilon):\n",
        "    \"\"\"\n",
        "    Finds a number y such that y**power is close to x.\n",
        "    Returns None if root doesn't make sense (e.g. even root of negative).\n",
        "    \"\"\"\n",
        "    # No real even root for negative numbers\n",
        "    if x < 0 and power % 2 == 0:\n",
        "        return None\n",
        "\n",
        "    low, high = find_root_bounds(x, power)\n",
        "    return bisection_solve(x, power, epsilon, low, high)\n",
        "\n",
        "\n",
        "\n",
        "print(find_root(16, 4, 0.001))\n"
      ]
    }
  ]
}