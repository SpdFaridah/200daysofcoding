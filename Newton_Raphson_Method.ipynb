{
  "nbformat": 4,
  "nbformat_minor": 0,
  "metadata": {
    "colab": {
      "provenance": [],
      "authorship_tag": "ABX9TyMtvyC3T/YUU++ty8dENJX3",
      "include_colab_link": true
    },
    "kernelspec": {
      "name": "python3",
      "display_name": "Python 3"
    },
    "language_info": {
      "name": "python"
    }
  },
  "cells": [
    {
      "cell_type": "markdown",
      "metadata": {
        "id": "view-in-github",
        "colab_type": "text"
      },
      "source": [
        "<a href=\"https://colab.research.google.com/github/SpdFaridah/200daysofcoding/blob/main/Newton_Raphson_Method.ipynb\" target=\"_parent\"><img src=\"https://colab.research.google.com/assets/colab-badge.svg\" alt=\"Open In Colab\"/></a>"
      ]
    },
    {
      "cell_type": "markdown",
      "source": [
        "Newton Raphson Method"
      ],
      "metadata": {
        "id": "S2koolWz-7NT"
      }
    },
    {
      "cell_type": "code",
      "execution_count": 1,
      "metadata": {
        "colab": {
          "base_uri": "https://localhost:8080/"
        },
        "id": "gcIjHU12-EP8",
        "outputId": "e7fba593-6646-4de7-ea27-4ff021495d58"
      },
      "outputs": [
        {
          "output_type": "stream",
          "name": "stdout",
          "text": [
            "Root of f1: 2.0945514815423265\n",
            "Root of f2 (sqrt(612)): 24.73863375370596\n"
          ]
        }
      ],
      "source": [
        "# Newton-Raphson method from scratch\n",
        "\n",
        "def newton_raphson(f, df, x0, tol=1e-6, max_iter=100):\n",
        "    \"\"\"\n",
        "    f: the function\n",
        "    df: the derivative of the function\n",
        "    x0: initial guess\n",
        "    tol: tolerance for stopping\n",
        "    max_iter: maximum number of iterations\n",
        "    \"\"\"\n",
        "    x = x0\n",
        "    for i in range(max_iter):\n",
        "        fx = f(x)\n",
        "        dfx = df(x)\n",
        "        if dfx == 0:\n",
        "            print(\"Zero derivative. No solution found.\")\n",
        "            return None\n",
        "        x_new = x - (fx / dfx)\n",
        "        if abs(x_new - x) < tol:\n",
        "            return x_new\n",
        "        x = x_new\n",
        "    print(\"Did not converge within the maximum number of iterations.\")\n",
        "    return None\n",
        "\n",
        "# Example 1: Solve f(x) = x^3 - 2x - 5\n",
        "def f1(x):\n",
        "    return x**3 - 2*x - 5\n",
        "\n",
        "def df1(x):\n",
        "    return 3*x**2 - 2\n",
        "\n",
        "root1 = newton_raphson(f1, df1, x0=2)\n",
        "print(\"Root of f1:\", root1)\n",
        "\n",
        "# Example 2: Solve f(x) = x^2 - 612 (sqrt(612))\n",
        "def f2(x):\n",
        "    return x**2 - 612\n",
        "\n",
        "def df2(x):\n",
        "    return 2*x\n",
        "\n",
        "root2 = newton_raphson(f2, df2, x0=10)\n",
        "print(\"Root of f2 (sqrt(612)):\", root2)\n"
      ]
    },
    {
      "cell_type": "code",
      "source": [],
      "metadata": {
        "id": "rKGCHEGk_egy"
      },
      "execution_count": null,
      "outputs": []
    }
  ]
}