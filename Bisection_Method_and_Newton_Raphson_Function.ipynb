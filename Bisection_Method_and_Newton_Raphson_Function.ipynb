{
  "nbformat": 4,
  "nbformat_minor": 0,
  "metadata": {
    "colab": {
      "provenance": [],
      "authorship_tag": "ABX9TyMZRppNEPl0XAke4IgKhCMT",
      "include_colab_link": true
    },
    "kernelspec": {
      "name": "python3",
      "display_name": "Python 3"
    },
    "language_info": {
      "name": "python"
    }
  },
  "cells": [
    {
      "cell_type": "markdown",
      "metadata": {
        "id": "view-in-github",
        "colab_type": "text"
      },
      "source": [
        "<a href=\"https://colab.research.google.com/github/SpdFaridah/200daysofcoding/blob/main/Bisection_Method_and_Newton_Raphson_Function.ipynb\" target=\"_parent\"><img src=\"https://colab.research.google.com/assets/colab-badge.svg\" alt=\"Open In Colab\"/></a>"
      ]
    },
    {
      "cell_type": "markdown",
      "source": [
        "Bisection Method and Newton Raphson Function"
      ],
      "metadata": {
        "id": "jHq9Jb_6YnDC"
      }
    },
    {
      "cell_type": "code",
      "source": [
        "#  Bisection Method Function\n",
        "def bisection(f, a, b, tol=1e-6, max_iter=100):\n",
        "    steps = 0\n",
        "    # Check if initial interval is valid\n",
        "    if f(a) * f(b) >= 0:\n",
        "        return None, steps  #This Can't proceed if the root is not bracketed\n",
        "\n",
        "    # We keep dividing  the interval by 2 until it's small enough or max steps reached\n",
        "    while (b - a) / 2 > tol and steps < max_iter:\n",
        "        steps += 1\n",
        "        c = (a + b) / 2  # Midpoint\n",
        "        if f(c) == 0:     # Found exact root\n",
        "            return c, steps\n",
        "        elif f(a) * f(c) < 0:\n",
        "            b = c        # Root lies in left half\n",
        "        else:\n",
        "            a = c        # Root lies in right half\n",
        "    return (a + b) / 2, steps  # Approximate root\n",
        "\n",
        "# Newton-Raphson Method Function\n",
        "def newton_raphson(f, df, x0, tol=1e-6, max_iter=100):\n",
        "    x = x0\n",
        "    steps = 0\n",
        "    for _ in range(max_iter):\n",
        "        steps += 1\n",
        "        fx = f(x)\n",
        "        dfx = df(x)\n",
        "\n",
        "        if dfx == 0:\n",
        "            return None, steps  #Since Derivative can't be zero, this method fails\n",
        "\n",
        "        # Applying  Newton-Raphson  formula\n",
        "        x_new = x - (fx / dfx)\n",
        "\n",
        "        if abs(x_new - x) < tol:\n",
        "            return x_new, steps  # Converged\n",
        "\n",
        "        x = x_new  # Update guess\n",
        "    return None, steps  # Didn't converge in time\n",
        "\n",
        "#  Function to solve: f(x) = x³ - 2x - 5\n",
        "def func(x):\n",
        "    return x**3 - 2*x - 5\n",
        "\n",
        "#  Derivative of the function\n",
        "def dfunc(x):\n",
        "    return 3*x**2 - 2\n",
        "\n",
        "# We Run both methods and compare to know which is fasyer\n",
        "bisect_result, bisect_steps = bisection(func, 2, 3)\n",
        "newton_result, newton_steps = newton_raphson(func, dfunc, x0=2)\n",
        "\n",
        "#  Right here is the Display Results\n",
        "print(\"Bisection Method:\")\n",
        "print(\" Root:\", bisect_result)\n",
        "print(\" Steps:\", bisect_steps)\n",
        "\n",
        "print(\"\\nNewton-Raphson Method:\")\n",
        "print(\" Root:\", newton_result)\n",
        "print(\" Steps:\", newton_steps)\n"
      ],
      "metadata": {
        "colab": {
          "base_uri": "https://localhost:8080/"
        },
        "id": "e0xY7idqXpve",
        "outputId": "a1e1f77a-cc40-4efe-d0da-025505fce31e"
      },
      "execution_count": 1,
      "outputs": [
        {
          "output_type": "stream",
          "name": "stdout",
          "text": [
            "Bisection Method:\n",
            " Root: 2.0945520401000977\n",
            " Steps: 19\n",
            "\n",
            "Newton-Raphson Method:\n",
            " Root: 2.0945514815423265\n",
            " Steps: 4\n"
          ]
        }
      ]
    },
    {
      "cell_type": "markdown",
      "source": [],
      "metadata": {
        "id": "3g4bI15dYl7t"
      }
    }
  ]
}