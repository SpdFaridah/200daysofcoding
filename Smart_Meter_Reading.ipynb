{
  "nbformat": 4,
  "nbformat_minor": 0,
  "metadata": {
    "colab": {
      "provenance": [],
      "authorship_tag": "ABX9TyNtuDRxNSq16jvaM+j6QQOg",
      "include_colab_link": true
    },
    "kernelspec": {
      "name": "python3",
      "display_name": "Python 3"
    },
    "language_info": {
      "name": "python"
    }
  },
  "cells": [
    {
      "cell_type": "markdown",
      "metadata": {
        "id": "view-in-github",
        "colab_type": "text"
      },
      "source": [
        "<a href=\"https://colab.research.google.com/github/SpdFaridah/200daysofcoding/blob/main/Smart_Meter_Reading.ipynb\" target=\"_parent\"><img src=\"https://colab.research.google.com/assets/colab-badge.svg\" alt=\"Open In Colab\"/></a>"
      ]
    },
    {
      "cell_type": "markdown",
      "source": [
        "Smart Meter Reading"
      ],
      "metadata": {
        "id": "PxQ6nhw1FtTG"
      }
    },
    {
      "cell_type": "code",
      "execution_count": 1,
      "metadata": {
        "colab": {
          "base_uri": "https://localhost:8080/"
        },
        "id": "zLaOwkUZjau1",
        "outputId": "bafe2233-a681-4e58-f915-6c6f5bbf0718"
      },
      "outputs": [
        {
          "output_type": "stream",
          "name": "stdout",
          "text": [
            "📖 Smart Meter Readings:\n",
            "245V\n",
            "248V\n",
            "240V\n",
            "243V\n",
            "\n",
            "📖 Updated Readings:\n",
            "245V\n",
            "248V\n",
            "240V\n",
            "243V\n",
            "250V\n",
            "247V\n",
            "\n"
          ]
        }
      ],
      "source": [
        "# Let's access smart meter data using different file modes\n",
        "\n",
        "# Writing initial smart meter readings to a file\n",
        "with open(\"smart_meter_data.txt\", \"w\") as file:\n",
        "    file.write(\"245V\\n248V\\n240V\\n243V\\n\")\n",
        "\n",
        "# Reading the data from the file\n",
        "with open(\"smart_meter_data.txt\", \"r\") as file:\n",
        "    print(\"📖 Smart Meter Readings:\")\n",
        "    for line in file:\n",
        "        print(line.strip())\n",
        "\n",
        "# Appending new data\n",
        "with open(\"smart_meter_data.txt\", \"a\") as file:\n",
        "    file.write(\"250V\\n247V\\n\")\n",
        "\n",
        "# Reading updated data\n",
        "with open(\"smart_meter_data.txt\", \"r\") as file:\n",
        "    print(\"\\n📖 Updated Readings:\")\n",
        "    print(file.read())\n",
        "\n",
        "# Reading and writing (r+)\n",
        "with open(\"smart_meter_data.txt\", \"r+\") as file:\n",
        "    lines = file.readlines()\n",
        "    file.seek(0)\n",
        "    file.write(\"🔄 Updated Voltage Log:\\n\")\n",
        "    file.writelines(lines)\n",
        "\n"
      ]
    },
    {
      "cell_type": "code",
      "source": [],
      "metadata": {
        "id": "4j4Bpk4IjcDH"
      },
      "execution_count": null,
      "outputs": []
    }
  ]
}