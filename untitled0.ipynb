{
  "nbformat": 4,
  "nbformat_minor": 0,
  "metadata": {
    "colab": {
      "provenance": [],
      "authorship_tag": "ABX9TyNSNtk1w+nCsIrGS2u1mbGg",
      "include_colab_link": true
    },
    "kernelspec": {
      "name": "python3",
      "display_name": "Python 3"
    },
    "language_info": {
      "name": "python"
    }
  },
  "cells": [
    {
      "cell_type": "markdown",
      "metadata": {
        "id": "view-in-github",
        "colab_type": "text"
      },
      "source": [
        "<a href=\"https://colab.research.google.com/github/SpdFaridah/200daysofcoding/blob/main/untitled0.ipynb\" target=\"_parent\"><img src=\"https://colab.research.google.com/assets/colab-badge.svg\" alt=\"Open In Colab\"/></a>"
      ]
    },
    {
      "cell_type": "markdown",
      "source": [
        "Functions #200daysofcoding"
      ],
      "metadata": {
        "id": "3B76E8dL8zhz"
      }
    },
    {
      "cell_type": "code",
      "source": [
        "x1 = 25\n",
        "epsilon = 0.01\n",
        "#we want to find the cube root of x1 by using bisection search method\n",
        "if x1 < 0 :\n",
        "    print(\"Does not exist\")\n",
        "else:\n",
        "    low = 0\n",
        "    high = max(1,x1)\n",
        "    ans = (high+low)/2\n",
        "    while abs(ans**2-x1) >= epsilon:\n",
        "        if ans**2 < x1 :\n",
        "            low = ans\n",
        "        else:\n",
        "            high = ans\n",
        "        ans=(high+low)/2\n",
        "x1_root = ans\n",
        "\n",
        "x2 = -8\n",
        "#now we are moving from finding square root to finding the cube root of x2 by still using bisection method\n",
        "if x2 <0 :\n",
        "    is_pos = False\n",
        "    x2 = -x2\n",
        "else:\n",
        "    is_pos = True\n",
        "low = 0\n",
        "high = max(1,x2)\n",
        "ans = (high+low)/2\n",
        "while abs(ans**3 - x2) >= epsilon :\n",
        "    if ans**3 < x2 :\n",
        "        low = ans\n",
        "    else:\n",
        "        high = ans\n",
        "    ans = (high + low)/2\n",
        "if is_pos:\n",
        "    x2_root = ans\n",
        "else:\n",
        "    x2_root = -ans\n",
        "    x2 = -x2\n",
        "\"\"\" We are also going to sum up all we have been doing i.e we are going to find the sum of the square root and the cube root\n",
        "\"\"\"\n",
        "print(\"Sum of square root of\",x1, \"and cube root of\", x2, \"is close to\" ,x1_root + x2_root)\n",
        "#and that's a wrap on how to find square root and cube root of a number using bisection method thank you\n",
        "\n"
      ],
      "metadata": {
        "colab": {
          "base_uri": "https://localhost:8080/"
        },
        "id": "3UyZ-vYLIzKa",
        "outputId": "b1a9f22c-5110-4a38-a183-9ebfee317d40"
      },
      "execution_count": null,
      "outputs": [
        {
          "output_type": "stream",
          "name": "stdout",
          "text": [
            "Sum of square root of 25 and cube root of -8 is close to 3.00030517578125\n"
          ]
        }
      ]
    },
    {
      "cell_type": "code",
      "source": [
        "#we are going to define a function find_root which contains 3 argument which  are x,power and epsilon we define functions to make our code more simple,short and readable\n",
        "def find_root(x,power,epsilon):\n",
        "    #we want to find the interval in which answer of root is contained\n",
        "    if x < 0 and power == 0:\n",
        "        return None #we are asking it to return None since negative number has no even-powered roots\n",
        "    low = min(-1,x)\n",
        "    high = max(1,x)\n",
        "    #we are going to make use of bisection search also known as bisection method here to\n",
        "    ans = (high+low)/2\n",
        "    while abs(ans**power - x) >= epsilon:\n",
        "        if ans**power < x:\n",
        "            low = ans\n",
        "        else:\n",
        "            high = ans\n",
        "        ans = (high+low)/2\n",
        "    return ans\n",
        "\n",
        "\n"
      ],
      "metadata": {
        "id": "nn7MIu-CJM_X"
      },
      "execution_count": null,
      "outputs": []
    },
    {
      "cell_type": "code",
      "source": [
        "def test_find_root(x_vals, powers, epsilons):\n",
        "    for x in x_vals :\n",
        "        for p in powers:\n",
        "            for e in epsilons:\n",
        "                result = find_root(x , p, e)\n",
        "                if result == None :\n",
        "                    val = \"No root exists\"\n",
        "                else:\n",
        "                    val = \"Okay\"\n",
        "                    if abs(result**p - x) > e :\n",
        "                        val = \"Bad\"\n",
        "                print(f'x ={x}, power= {p}, epsilon = {e}: {val}')"
      ],
      "metadata": {
        "id": "zTq_AJPPJYAk"
      },
      "execution_count": null,
      "outputs": []
    },
    {
      "cell_type": "code",
      "source": [
        "x_vals = (0.25,8,-8)\n",
        "powers = (1,2,3)\n",
        "epsilons = (0.1,0.001,1)\n",
        "test_find_root(x_vals, powers, epsilons)"
      ],
      "metadata": {
        "colab": {
          "base_uri": "https://localhost:8080/"
        },
        "id": "54adZTCzJfYv",
        "outputId": "00afb043-aef8-4c93-c134-d437413cb8dc"
      },
      "execution_count": null,
      "outputs": [
        {
          "output_type": "stream",
          "name": "stdout",
          "text": [
            "x =0.25, power= 1, epsilon = 0.1: Okay\n",
            "x =0.25, power= 1, epsilon = 0.001: Okay\n",
            "x =0.25, power= 1, epsilon = 1: Okay\n",
            "x =0.25, power= 2, epsilon = 0.1: Okay\n",
            "x =0.25, power= 2, epsilon = 0.001: Okay\n",
            "x =0.25, power= 2, epsilon = 1: Okay\n",
            "x =0.25, power= 3, epsilon = 0.1: Okay\n",
            "x =0.25, power= 3, epsilon = 0.001: Okay\n",
            "x =0.25, power= 3, epsilon = 1: Okay\n",
            "x =8, power= 1, epsilon = 0.1: Okay\n",
            "x =8, power= 1, epsilon = 0.001: Okay\n",
            "x =8, power= 1, epsilon = 1: Okay\n",
            "x =8, power= 2, epsilon = 0.1: Okay\n",
            "x =8, power= 2, epsilon = 0.001: Okay\n",
            "x =8, power= 2, epsilon = 1: Okay\n",
            "x =8, power= 3, epsilon = 0.1: Okay\n",
            "x =8, power= 3, epsilon = 0.001: Okay\n",
            "x =8, power= 3, epsilon = 1: Okay\n",
            "x =-8, power= 1, epsilon = 0.1: Okay\n",
            "x =-8, power= 1, epsilon = 0.001: Okay\n",
            "x =-8, power= 1, epsilon = 1: Okay\n"
          ]
        }
      ]
    },
    {
      "cell_type": "code",
      "source": [
        "\n",
        "def find_root(x , power , epsilon):\n",
        "    #we are assumming our x and epsilon to be int or float and power to be an int\n",
        "    # let epsilon > 0 &power >= 1\n",
        "    \"\"\" Returns float y such that y**power is within epsilon of x, If such a float does not exist, it returns None, find interval containing answer\n",
        "    \"\"\"\n",
        "    if x < 0 and power%2 == 0:\n",
        "        return None\n",
        "    low = min(-1,x)\n",
        "    high = max(1,x)\n",
        "    #making use of bisection search again here\n",
        "    ans = (high+low)/2\n",
        "    while abs(ans**power-x) >= epsilon :\n",
        "        if ans**power < x :\n",
        "            low = ans\n",
        "        else:\n",
        "            high = ans\n",
        "        ans = (high + low)/2\n",
        "    return ans\n"
      ],
      "metadata": {
        "id": "XvKd8SeyMzP5"
      },
      "execution_count": null,
      "outputs": []
    },
    {
      "cell_type": "code",
      "source": [
        "#to test the function above we hereby define e\n",
        "e = 0.001\n",
        "print(find_root(25, 2 , e ), find_root(-8,3,e), find_root(14,4,e))"
      ],
      "metadata": {
        "id": "trYDnwG5M5jx"
      },
      "execution_count": null,
      "outputs": []
    },
    {
      "cell_type": "code",
      "source": [
        "def find_root_bounds(x,power):\n",
        "    \"\"\"x a float, power a positive int return low, high such that low**power <= x and high**power >= x\n",
        "    \"\"\"\n",
        "    low = min(-1,x)\n",
        "    high = max(1,x)\n",
        "    return low, high\n",
        "def bisection_solve(x,power,epsilon,low,high) :\n",
        "    \"\"\"x,epsilon,low,high are floats\n",
        "       epsilon<0\n",
        "       low <= high and there is an ans between low and high s.t.\n",
        "          ans**power is within epsilon of x\n",
        "       returns ans s.t. ans**power within epsilon of x\n",
        "    \"\"\"\n",
        "    ans = (high + low)/2\n",
        "    while abs(ans**power - x) >= epsilon :\n",
        "        if ans**power < x :\n",
        "            low = ans\n",
        "        else:\n",
        "            high = ans\n",
        "        ans = (high + low)/2\n",
        "    return ans\n",
        "def find_root(x,power,epsilon):\n",
        "    \"\"\"we are assuming x and epsilon to be either int or float, power an int,\n",
        "         epsilon>0 & power >= 1\n",
        "       it Returns float y such that y**power is wirhin epsilon of x.\n",
        "         if such a float does not exist, it returns None\n",
        "    \"\"\"\n",
        "    if x < 0 and power%2 == 0:\n",
        "        return None #since Negative number has no even-powered roots\n",
        "    low,high = find_root_bounds(x,power)\n",
        "    return bisection_solve(x,power,epsilon,low,high)"
      ],
      "metadata": {
        "id": "ar2W8gCFNKZA"
      },
      "execution_count": null,
      "outputs": []
    },
    {
      "cell_type": "code",
      "source": [
        "#we are going to make iterative way to evaluate factorial\n",
        "def fact_iter(n):\n",
        "    \"\"\" we are assuming n an int > 0\n",
        "        Returns n!\n",
        "    \"\"\"\n",
        "    result = 1\n",
        "    for i in range(1,n+1):\n",
        "        result *= i\n",
        "    return result\n",
        "#now let's dive into another but simpler process or algorithm that solves the same problem by breaking it down into smaller, self-similar subproblems, and then applying the same process to those subproblems until we get the desired results\n",
        "def fact_rec(n) :\n",
        "    \"\"\"We are assuming n an int > 0\n",
        "       Returns n!\n",
        "    \"\"\"\n",
        "    if n == 1 :\n",
        "        return n\n",
        "    else:\n",
        "        return n*fact_rec(n - 1)"
      ],
      "metadata": {
        "id": "T7xiSYLuNONH"
      },
      "execution_count": null,
      "outputs": []
    },
    {
      "cell_type": "code",
      "source": [
        "#Fibonacci series is a sequence of numbers where Each number is the sum of the two previous numbers.\n",
        "def fib(n):\n",
        "    \"\"\"we are assuming n int> 0\n",
        "       returns fibonacci of n\n",
        "    \"\"\"\n",
        "    if n == 0 or n== 1:\n",
        "        return 1\n",
        "    else:\n",
        "        return fib(n-1) +fib(n-2)\n",
        "def test_fib(n):\n",
        "    for i in range(n+1):\n",
        "        print(\"fib of\", i , \"=\" , fib(i))\n",
        "test_fib(14)"
      ],
      "metadata": {
        "id": "8sIRVntqNSm9"
      },
      "execution_count": null,
      "outputs": []
    },
    {
      "cell_type": "code",
      "source": [
        "#we are writing functions to check if a string is a palidrome\n",
        "def is_palindrome(s):\n",
        "    \"\"\" We are assuming s is a str\n",
        "        Returns True if letters in s form a palindrome; False\n",
        "        otherwise. Non-letters and capitalization are ignored.\n",
        "    \"\"\"\n",
        "    def to_chars(s):\n",
        "        s = s.lower()\n",
        "        letters = \"\"\n",
        "        for c in s :\n",
        "            if c in \"abcdefghijklmnopqrstuvwxyz\" :\n",
        "                letters = letters + c\n",
        "        return letters\n",
        "    def is_pal(s):\n",
        "        if len(s) <= 1 :\n",
        "            return True\n",
        "        else:\n",
        "            return s[0] == s[-1] and is_pal(s[1:-1])\n",
        "    return is_pal(to_chars(s))\n",
        "print(is_palindrome(\"Able was I ere I saw Elba\"))\n",
        "print(is_palindrome(\"Able was I ere I saw Atlanta\"))\n"
      ],
      "metadata": {
        "id": "M8SN35ZtNuEx"
      },
      "execution_count": null,
      "outputs": []
    }
  ]
}