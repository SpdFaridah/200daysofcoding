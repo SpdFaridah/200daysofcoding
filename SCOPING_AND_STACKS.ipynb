{
  "nbformat": 4,
  "nbformat_minor": 0,
  "metadata": {
    "colab": {
      "provenance": [],
      "authorship_tag": "ABX9TyM9vaov1lpaY16tLTF1AJQH",
      "include_colab_link": true
    },
    "kernelspec": {
      "name": "python3",
      "display_name": "Python 3"
    },
    "language_info": {
      "name": "python"
    }
  },
  "cells": [
    {
      "cell_type": "markdown",
      "metadata": {
        "id": "view-in-github",
        "colab_type": "text"
      },
      "source": [
        "<a href=\"https://colab.research.google.com/github/SpdFaridah/200daysofcoding/blob/main/SCOPING_AND_STACKS.ipynb\" target=\"_parent\"><img src=\"https://colab.research.google.com/assets/colab-badge.svg\" alt=\"Open In Colab\"/></a>"
      ]
    },
    {
      "cell_type": "code",
      "execution_count": 1,
      "metadata": {
        "colab": {
          "base_uri": "https://localhost:8080/"
        },
        "id": "DhZWijgtsPE2",
        "outputId": "ae9117a8-e442-4deb-bf73-267af391320b"
      },
      "outputs": [
        {
          "output_type": "stream",
          "name": "stdout",
          "text": [
            "Average score: 81.0\n"
          ]
        }
      ],
      "source": [
        "def calculate_total(scores):\n",
        "    \"\"\"\n",
        "    Outer function to calculate total score.\n",
        "    Demonstrates outer scope (scores lives here).\n",
        "    \"\"\"\n",
        "    def sum_scores(lst):\n",
        "        \"\"\"\n",
        "        Inner function to sum the list.\n",
        "        This uses the inner scope.\n",
        "        \"\"\"\n",
        "        total = 0  # This total only lives inside this function\n",
        "        for score in lst:\n",
        "            total += score\n",
        "        return total\n",
        "\n",
        "    # Here, we're calling the inner function from the outer function\n",
        "    return sum_scores(scores)\n",
        "\n",
        "\n",
        "def average_score(scores):\n",
        "    \"\"\"\n",
        "    Calculates average by using the total from calculate_total().\n",
        "    Shows how functions are stacked and returned one after the other.\n",
        "    \"\"\"\n",
        "    total = calculate_total(scores)  # This line calls another function = stack grows\n",
        "    count = len(scores)\n",
        "    return total / count\n",
        "\n",
        "\n",
        "# Our main \"math student\" data: test scores in a semester\n",
        "test_scores = [75, 82, 91, 68, 89]\n",
        "\n",
        "# This kicks off the function calls, triggering the call stack in action\n",
        "avg = average_score(test_scores)\n",
        "\n",
        "print(f\"Average score: {avg}\")\n"
      ]
    },
    {
      "cell_type": "code",
      "source": [],
      "metadata": {
        "id": "XFJmTl1JsS2e"
      },
      "execution_count": null,
      "outputs": []
    }
  ]
}