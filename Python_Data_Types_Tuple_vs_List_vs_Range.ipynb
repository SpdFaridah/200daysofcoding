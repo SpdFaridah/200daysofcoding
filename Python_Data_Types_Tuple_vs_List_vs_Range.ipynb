{
  "nbformat": 4,
  "nbformat_minor": 0,
  "metadata": {
    "colab": {
      "provenance": [],
      "authorship_tag": "ABX9TyNK2VbIxmy7nU51CngZ6Yce",
      "include_colab_link": true
    },
    "kernelspec": {
      "name": "python3",
      "display_name": "Python 3"
    },
    "language_info": {
      "name": "python"
    }
  },
  "cells": [
    {
      "cell_type": "markdown",
      "metadata": {
        "id": "view-in-github",
        "colab_type": "text"
      },
      "source": [
        "<a href=\"https://colab.research.google.com/github/SpdFaridah/200daysofcoding/blob/main/Python_Data_Types_Tuple_vs_List_vs_Range.ipynb\" target=\"_parent\"><img src=\"https://colab.research.google.com/assets/colab-badge.svg\" alt=\"Open In Colab\"/></a>"
      ]
    },
    {
      "cell_type": "markdown",
      "source": [
        "Python Data Types: Tuple vs List vs Range"
      ],
      "metadata": {
        "id": "ua1AygzVVr5h"
      }
    },
    {
      "cell_type": "code",
      "execution_count": 3,
      "metadata": {
        "colab": {
          "base_uri": "https://localhost:8080/"
        },
        "id": "EzglU5gEVVV8",
        "outputId": "bf7fed58-cd01-4096-bfa9-355da0e9e83c"
      },
      "outputs": [
        {
          "output_type": "stream",
          "name": "stdout",
          "text": [
            "Birth years: (2002, 2003, 2004)\n",
            "Coursemates: ['Noah', 'Enitan', 'Bryan', 'Victor', 'Light Pole', 'Charles', 'Mukaram']\n",
            "Class sessions:\n",
            "Period 1: Class in session\n",
            "Period 3: Class in session\n",
            "Period 5: Class in session\n",
            "Class hours : [9, 10, 11]\n"
          ]
        }
      ],
      "source": [
        "# Tuple uses () and is IMMUTABLE (cannot be changed)\n",
        "\n",
        "birth_years = (2002, 2003, 2004)\n",
        "print(\"Birth years:\", birth_years)\n",
        "\n",
        "\n",
        "\n",
        "# List uses [] and is MUTABLE (can be changed)\n",
        "\n",
        "coursemates = [\"Noah\", \"Enitan\", \"Brian\", \"Victor\", \"Light Pole\", \"Charles\"]\n",
        "coursemates[2] = \"Bryan\"  # Corrected a name\n",
        "coursemates.append(\"Mukaram\")  # Added a new coursemate\n",
        "print(\"Coursemates:\", coursemates)\n",
        "\n",
        "\n",
        "\n",
        "# Range generates a sequence of numbers, often used in loops\n",
        "\n",
        "print(\"Class sessions:\")\n",
        "for period in range(1, 6, 2):  # Outputs 1, 3, 5, because I already set it to every 2 periods\n",
        "    print(f\"Period {period}: Class in session\")\n",
        "\n",
        "\n",
        "\n",
        "# You can convert a range to a list if needed\n",
        "\n",
        "class_hours = list(range(9, 12))  # Converts range to list: [9, 10, 11]\n",
        "print(\"Class hours :\", class_hours)\n"
      ]
    },
    {
      "cell_type": "code",
      "source": [],
      "metadata": {
        "id": "vQvPDUzfYPut"
      },
      "execution_count": null,
      "outputs": []
    }
  ]
}