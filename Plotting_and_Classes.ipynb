{
  "nbformat": 4,
  "nbformat_minor": 0,
  "metadata": {
    "colab": {
      "provenance": [],
      "authorship_tag": "ABX9TyNYQETVhiCtZMLCFSiVqob6",
      "include_colab_link": true
    },
    "kernelspec": {
      "name": "python3",
      "display_name": "Python 3"
    },
    "language_info": {
      "name": "python"
    }
  },
  "cells": [
    {
      "cell_type": "markdown",
      "metadata": {
        "id": "view-in-github",
        "colab_type": "text"
      },
      "source": [
        "<a href=\"https://colab.research.google.com/github/SpdFaridah/200daysofcoding/blob/main/Plotting_and_Classes.ipynb\" target=\"_parent\"><img src=\"https://colab.research.google.com/assets/colab-badge.svg\" alt=\"Open In Colab\"/></a>"
      ]
    },
    {
      "cell_type": "markdown",
      "source": [
        "Plotting and Classes"
      ],
      "metadata": {
        "id": "Hn7ZA-CYlDr-"
      }
    },
    {
      "cell_type": "code",
      "execution_count": null,
      "metadata": {
        "id": "6L6hFfL2kv_w"
      },
      "outputs": [],
      "source": [
        "class Mortgage(object):\n",
        "    \"\"\"Abstract class for building different kinds of mortgages\"\"\"\n",
        "\n",
        "    def __init__(self, loan, annRate, months):\n",
        "        # Set up the basic mortgage info: loan amount, interest rate per month, and duration\n",
        "        self._loan = loan\n",
        "        self._rate = annRate / 12.0  # Convert annual rate to monthly\n",
        "        self._months = months\n",
        "        self._paid = [0.0]  # Start with no payments made yet\n",
        "        self._outstanding = [loan]  # You owe the full loan at the start\n",
        "        self._payment = find_payment(loan, self._rate, months)  # Calculate fixed monthly payment\n",
        "        self._legend = None  # Description to help identify different mortgage types\n",
        "\n",
        "    def make_payment(self):\n",
        "        # Simulate making one monthly payment\n",
        "        self._paid.append(self._payment)  # Record the payment\n",
        "        reduction = self._payment - self._outstanding[-1] * self._rate  # How much principal is reduced after paying interest\n",
        "        self._outstanding.append(self._outstanding[-1] - reduction)  # Update how much you still owe\n",
        "\n",
        "    def get_total_paid(self):\n",
        "        # Calculate how much has been paid in total\n",
        "        return sum(self._paid)\n",
        "\n",
        "    def __str__(self):\n",
        "        # When we print a mortgage object, show its description\n",
        "        return self._legend\n",
        "\n",
        "    def plot_payments(self, style):\n",
        "        # Plot the monthly payment over time\n",
        "        plt.plot(self._paid[1:], style, label=self._legend)\n",
        "\n",
        "    def plot_balance(self, style):\n",
        "        # Plot the remaining loan balance over time\n",
        "        plt.plot(self._outstanding, style, label=self._legend)\n",
        "\n",
        "    def plot_tot_pd(self, style):\n",
        "        # Plot the total payments made over time (cumulative)\n",
        "        tot_pd = [self._paid[0]]\n",
        "        for i in range(1, len(self._paid)):\n",
        "            tot_pd.append(tot_pd[-1] + self._paid[i])\n",
        "        plt.plot(tot_pd, style, label=self._legend)\n",
        "\n",
        "    def plot_net(self, style):\n",
        "        # Plot the net cost: total payments made minus equity (ownership) gained\n",
        "        tot_pd = [self._paid[0]]\n",
        "        for i in range(1, len(self._paid)):\n",
        "            tot_pd.append(tot_pd[-1] + self._paid[i])\n",
        "\n",
        "        equity_acquired = np.array([self._loan] * len(self._outstanding)) - np.array(self._outstanding)\n",
        "        net = np.array(tot_pd) - equity_acquired\n",
        "        plt.plot(net, style, label=self._legend)\n"
      ]
    },
    {
      "cell_type": "markdown",
      "source": [
        "Covid 19 Cases in USA"
      ],
      "metadata": {
        "id": "ZA-rzsKew96V"
      }
    },
    {
      "cell_type": "code",
      "source": [
        "def plot_mortgages(morts, amt):\n",
        "    # Helper function to make a labeled plot (title, labels, legend)\n",
        "    def label_plot(figure, title, x_label, y_label):\n",
        "        plt.figure(figure)\n",
        "        plt.title(title)  # Set plot title\n",
        "        plt.xlabel(x_label)  # Set X-axis label\n",
        "        plt.ylabel(y_label)  # Set Y-axis label\n",
        "        plt.legend(loc='best')  # Place the legend neatly\n",
        "\n",
        "    # Define different line styles for different mortgages (solid, dashed, dotted)\n",
        "    styles = ['k-', 'k--', 'k:']\n",
        "\n",
        "    # Assign numbers to different types of plots\n",
        "    payments, cost, balance, net_cost = 0, 1, 2, 3\n",
        "\n",
        "    # Loop through each mortgage and plot all four graphs\n",
        "    for i in range(len(morts)):\n",
        "        plt.figure(payments)\n",
        "        morts[i].plot_payments(styles[i])  # Plot monthly payments\n",
        "\n",
        "        plt.figure(cost)\n",
        "        morts[i].plot_tot_pd(styles[i])  # Plot total payments made over time\n",
        "\n",
        "        plt.figure(balance)\n",
        "        morts[i].plot_balance(styles[i])  # Plot remaining balance over time\n",
        "\n",
        "        plt.figure(net_cost)\n",
        "        morts[i].plot_net(styles[i])  # Plot net cost over time\n",
        "\n",
        "    # Now label each plot nicely so it's easy to understand\n",
        "    label_plot(payments, f'Monthly Payments of ${amt}: Mortgages',\n",
        "               'Months', 'Monthly Payments')\n",
        "\n",
        "    label_plot(cost, f'Cash Outlay of ${amt}: Mortgages',\n",
        "               'Months', 'Total Payments')\n",
        "\n",
        "    label_plot(balance, f'Balance Remaining of ${amt}: Mortgages',\n",
        "               'Months', 'Remaining Loan Balance of $')\n",
        "\n",
        "    label_plot(net_cost, f'Net Cost of ${amt}: Mortgages',\n",
        "               'Months', 'Payments - Equity $')\n"
      ],
      "metadata": {
        "id": "HCIJZZ7Zk5gR"
      },
      "execution_count": null,
      "outputs": []
    },
    {
      "cell_type": "code",
      "source": [],
      "metadata": {
        "id": "SFuBKQhqk-3w"
      },
      "execution_count": null,
      "outputs": []
    }
  ]
}