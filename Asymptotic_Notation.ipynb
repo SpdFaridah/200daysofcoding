{
  "nbformat": 4,
  "nbformat_minor": 0,
  "metadata": {
    "colab": {
      "provenance": [],
      "authorship_tag": "ABX9TyNZRVC6d2VgBNtTWOqCHGFX",
      "include_colab_link": true
    },
    "kernelspec": {
      "name": "python3",
      "display_name": "Python 3"
    },
    "language_info": {
      "name": "python"
    }
  },
  "cells": [
    {
      "cell_type": "markdown",
      "metadata": {
        "id": "view-in-github",
        "colab_type": "text"
      },
      "source": [
        "<a href=\"https://colab.research.google.com/github/SpdFaridah/200daysofcoding/blob/main/Asymptotic_Notation.ipynb\" target=\"_parent\"><img src=\"https://colab.research.google.com/assets/colab-badge.svg\" alt=\"Open In Colab\"/></a>"
      ]
    },
    {
      "cell_type": "markdown",
      "source": [
        "Asymptotic Notation"
      ],
      "metadata": {
        "id": "Z5Zc4JpmhvtS"
      }
    },
    {
      "cell_type": "code",
      "execution_count": 2,
      "metadata": {
        "id": "LE7Q3772hq8u"
      },
      "outputs": [],
      "source": [
        "def check_complexity(x):\n",
        "    ans = 0\n",
        "\n",
        "    # O(1) - Constant time: Always runs 1000 steps regardless of x\n",
        "    for i in range(1000):\n",
        "        ans += 1\n",
        "    print(\"Additions so far (O(1)):\", ans)\n",
        "\n",
        "    # O(n) - Linear time: Runs as many times as x\n",
        "    for i in range(x):\n",
        "        ans += 1\n",
        "    print(\"Additions so far (O(n)):\", ans)\n",
        "\n",
        "    # O(n^2) - Quadratic time: Nested loops, runs x * x times\n",
        "    for i in range(x):\n",
        "        for j in range(x):\n",
        "            ans += 1\n",
        "    print(\"Additions so far (O(n^2)):\", ans)\n"
      ]
    },
    {
      "cell_type": "code",
      "source": [
        "check_complexity(10)"
      ],
      "metadata": {
        "colab": {
          "base_uri": "https://localhost:8080/"
        },
        "id": "WBeJp94BhtkD",
        "outputId": "a7889575-a127-4162-8e8f-c7e48ea67838"
      },
      "execution_count": 3,
      "outputs": [
        {
          "output_type": "stream",
          "name": "stdout",
          "text": [
            "Additions so far (O(1)): 1000\n",
            "Additions so far (O(n)): 1010\n",
            "Additions so far (O(n^2)): 1110\n"
          ]
        }
      ]
    },
    {
      "cell_type": "code",
      "source": [],
      "metadata": {
        "id": "KcM3PI95iSYP"
      },
      "execution_count": null,
      "outputs": []
    }
  ]
}