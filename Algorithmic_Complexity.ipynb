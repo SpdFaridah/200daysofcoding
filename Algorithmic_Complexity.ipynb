{
  "nbformat": 4,
  "nbformat_minor": 0,
  "metadata": {
    "colab": {
      "provenance": [],
      "authorship_tag": "ABX9TyMmW5dkCaEev9lb91atXDHB",
      "include_colab_link": true
    },
    "kernelspec": {
      "name": "python3",
      "display_name": "Python 3"
    },
    "language_info": {
      "name": "python"
    }
  },
  "cells": [
    {
      "cell_type": "markdown",
      "metadata": {
        "id": "view-in-github",
        "colab_type": "text"
      },
      "source": [
        "<a href=\"https://colab.research.google.com/github/SpdFaridah/200daysofcoding/blob/main/Algorithmic_Complexity.ipynb\" target=\"_parent\"><img src=\"https://colab.research.google.com/assets/colab-badge.svg\" alt=\"Open In Colab\"/></a>"
      ]
    },
    {
      "cell_type": "markdown",
      "source": [
        "Algorithmic Complexity"
      ],
      "metadata": {
        "id": "u2i99Ngi4Ic4"
      }
    },
    {
      "cell_type": "code",
      "execution_count": 2,
      "metadata": {
        "id": "U-Wd7CeP3ri7"
      },
      "outputs": [],
      "source": [
        "# A basic function to demonstrate poor algorithmic complexity\n",
        "\n",
        "def f(i):\n",
        "    ans = 1  # We start with an initial answer\n",
        "    while i >= 1:\n",
        "        ans = 1  # Reassigning the same value every time (inefficient)\n",
        "        i -= 1   # Count down until we hit zero\n",
        "    return ans  # Returns 1 no matter what\n"
      ]
    },
    {
      "cell_type": "code",
      "source": [],
      "metadata": {
        "id": "Ah6EO6_B39CF"
      },
      "execution_count": null,
      "outputs": []
    }
  ]
}