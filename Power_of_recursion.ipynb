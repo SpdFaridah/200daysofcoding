{
  "nbformat": 4,
  "nbformat_minor": 0,
  "metadata": {
    "colab": {
      "provenance": [],
      "authorship_tag": "ABX9TyNyW/mzh3dc+XYy6BB+/u3v",
      "include_colab_link": true
    },
    "kernelspec": {
      "name": "python3",
      "display_name": "Python 3"
    },
    "language_info": {
      "name": "python"
    }
  },
  "cells": [
    {
      "cell_type": "markdown",
      "metadata": {
        "id": "view-in-github",
        "colab_type": "text"
      },
      "source": [
        "<a href=\"https://colab.research.google.com/github/SpdFaridah/200daysofcoding/blob/main/Power_of_recursion.ipynb\" target=\"_parent\"><img src=\"https://colab.research.google.com/assets/colab-badge.svg\" alt=\"Open In Colab\"/></a>"
      ]
    },
    {
      "source": [
        "import time\n",
        "import matplotlib.pyplot as plt\n",
        "import math\n",
        "#I want to implement the power of recursion on arithmetic series and geometric series\n",
        "def arithmetic_series(first_term, common_difference, number_of_terms):\n",
        "  \"\"\"\n",
        "    Recursively computes the sum of the first n terms\n",
        "    of an arithmetic series with common difference d.\n",
        "    Assumes the first term a = d (i.e., series starts as d, 2d, 3d, ...)\n",
        "  \"\"\"\n",
        "  if number_of_terms == 1:\n",
        "    return first_term\n",
        "  return common_difference * number_of_terms + arithmetic_series(first_term, common_difference, number_of_terms - 1)\n",
        "# Assign the result of the function call to total_sum and define the variables with values\n",
        "first_term = 3\n",
        "common_difference = 4\n",
        "number_of_terms = 5\n",
        "total_sum = arithmetic_series(first_term, common_difference, number_of_terms)\n",
        "print(f\"Sum of the first {number_of_terms} terms of the arithmetic series with{common_difference} common difference is:\", total_sum)\n",
        "\n",
        "def geometric_series(first_term, common_ratio, number_of_terms):\n",
        "  \"\"\"\n",
        "    Recursively calculates the sum of the first n terms of a geometric series.\n",
        "    a: first term\n",
        "    r: common ratio\n",
        "    n: number of terms\n",
        "  \"\"\"\n",
        "  if number_of_terms == 1:\n",
        "    return first_term\n",
        "  return first_term *( common_ratio **( number_of_terms - 1)) + geometric_series(first_term , common_ratio, number_of_terms - 1)\n",
        "# Assign the result of the function call to total_sum and define the variables with values\n",
        "first_term = 3\n",
        "common_ratio = 4\n",
        "number_of_terms = 5\n",
        "total_sum = geometric_series(first_term, common_ratio, number_of_terms)\n",
        "print(f\"sum of first {number_of_terms} terms of geometrical series: {total_sum}\")"
      ],
      "cell_type": "code",
      "metadata": {
        "colab": {
          "base_uri": "https://localhost:8080/"
        },
        "id": "OoYRbua5O26E",
        "outputId": "fc73d4d0-e011-4a27-9f4a-70feb9f298a7"
      },
      "execution_count": null,
      "outputs": [
        {
          "output_type": "stream",
          "name": "stdout",
          "text": [
            "Sum of the first 5 terms of the arithmetic series with4 common difference is: 59\n",
            "sum of first 5 terms of geometrical series: 1023\n"
          ]
        }
      ]
    },
    {
      "cell_type": "code",
      "source": [],
      "metadata": {
        "id": "Y2otInwhMNG1"
      },
      "execution_count": null,
      "outputs": []
    }
  ]
}